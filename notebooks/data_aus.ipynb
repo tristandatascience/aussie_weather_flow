{
 "cells": [
  {
   "cell_type": "code",
   "execution_count": 1,
   "metadata": {
    "execution": {
     "iopub.execute_input": "2024-09-29T09:36:40.629100Z",
     "iopub.status.busy": "2024-09-29T09:36:40.628721Z",
     "iopub.status.idle": "2024-09-29T09:36:40.641507Z",
     "shell.execute_reply": "2024-09-29T09:36:40.640453Z",
     "shell.execute_reply.started": "2024-09-29T09:36:40.629038Z"
    }
   },
   "outputs": [],
   "source": [
    "import numpy as np \n",
    "import pandas as pd \n",
    "import matplotlib.pyplot as plt \n",
    "import seaborn as sns \n",
    "%matplotlib inline\n",
    "from datetime import datetime, timedelta\n",
    "from sklearn.preprocessing import StandardScaler\n",
    "import os\n",
    "from sklearn.utils import resample\n",
    "from sklearn.model_selection import train_test_split\n",
    "from sklearn.ensemble import GradientBoostingClassifier\n",
    "from sklearn.ensemble import RandomForestClassifier\n",
    "from sklearn.metrics import accuracy_score, classification_report, roc_auc_score, cohen_kappa_score, roc_curve, confusion_matrix, ConfusionMatrixDisplay\n",
    "from sklearn.preprocessing import OneHotEncoder\n",
    "from imblearn.ensemble import BalancedRandomForestClassifier\n",
    "import warnings\n",
    "warnings.filterwarnings('ignore')"
   ]
  },
  {
   "cell_type": "code",
   "execution_count": 2,
   "metadata": {
    "execution": {
     "iopub.execute_input": "2024-09-29T09:36:45.849600Z",
     "iopub.status.busy": "2024-09-29T09:36:45.849202Z",
     "iopub.status.idle": "2024-09-29T09:36:46.532075Z",
     "shell.execute_reply": "2024-09-29T09:36:46.531103Z",
     "shell.execute_reply.started": "2024-09-29T09:36:45.849529Z"
    }
   },
   "outputs": [
    {
     "data": {
      "text/html": [
       "<div>\n",
       "<style scoped>\n",
       "    .dataframe tbody tr th:only-of-type {\n",
       "        vertical-align: middle;\n",
       "    }\n",
       "\n",
       "    .dataframe tbody tr th {\n",
       "        vertical-align: top;\n",
       "    }\n",
       "\n",
       "    .dataframe thead th {\n",
       "        text-align: right;\n",
       "    }\n",
       "</style>\n",
       "<table border=\"1\" class=\"dataframe\">\n",
       "  <thead>\n",
       "    <tr style=\"text-align: right;\">\n",
       "      <th></th>\n",
       "      <th>Date</th>\n",
       "      <th>Location</th>\n",
       "      <th>MinTemp</th>\n",
       "      <th>MaxTemp</th>\n",
       "      <th>Rainfall</th>\n",
       "      <th>Evaporation</th>\n",
       "      <th>Sunshine</th>\n",
       "      <th>WindGustDir</th>\n",
       "      <th>WindGustSpeed</th>\n",
       "      <th>WindDir9am</th>\n",
       "      <th>...</th>\n",
       "      <th>Humidity9am</th>\n",
       "      <th>Humidity3pm</th>\n",
       "      <th>Pressure9am</th>\n",
       "      <th>Pressure3pm</th>\n",
       "      <th>Cloud9am</th>\n",
       "      <th>Cloud3pm</th>\n",
       "      <th>Temp9am</th>\n",
       "      <th>Temp3pm</th>\n",
       "      <th>RainToday</th>\n",
       "      <th>RainTomorrow</th>\n",
       "    </tr>\n",
       "  </thead>\n",
       "  <tbody>\n",
       "    <tr>\n",
       "      <th>0</th>\n",
       "      <td>2008-12-01</td>\n",
       "      <td>Albury</td>\n",
       "      <td>13.4</td>\n",
       "      <td>22.9</td>\n",
       "      <td>0.6</td>\n",
       "      <td>NaN</td>\n",
       "      <td>NaN</td>\n",
       "      <td>W</td>\n",
       "      <td>44.0</td>\n",
       "      <td>W</td>\n",
       "      <td>...</td>\n",
       "      <td>71.0</td>\n",
       "      <td>22.0</td>\n",
       "      <td>1007.7</td>\n",
       "      <td>1007.1</td>\n",
       "      <td>8.0</td>\n",
       "      <td>NaN</td>\n",
       "      <td>16.9</td>\n",
       "      <td>21.8</td>\n",
       "      <td>No</td>\n",
       "      <td>No</td>\n",
       "    </tr>\n",
       "    <tr>\n",
       "      <th>1</th>\n",
       "      <td>2008-12-02</td>\n",
       "      <td>Albury</td>\n",
       "      <td>7.4</td>\n",
       "      <td>25.1</td>\n",
       "      <td>0.0</td>\n",
       "      <td>NaN</td>\n",
       "      <td>NaN</td>\n",
       "      <td>WNW</td>\n",
       "      <td>44.0</td>\n",
       "      <td>NNW</td>\n",
       "      <td>...</td>\n",
       "      <td>44.0</td>\n",
       "      <td>25.0</td>\n",
       "      <td>1010.6</td>\n",
       "      <td>1007.8</td>\n",
       "      <td>NaN</td>\n",
       "      <td>NaN</td>\n",
       "      <td>17.2</td>\n",
       "      <td>24.3</td>\n",
       "      <td>No</td>\n",
       "      <td>No</td>\n",
       "    </tr>\n",
       "    <tr>\n",
       "      <th>2</th>\n",
       "      <td>2008-12-03</td>\n",
       "      <td>Albury</td>\n",
       "      <td>12.9</td>\n",
       "      <td>25.7</td>\n",
       "      <td>0.0</td>\n",
       "      <td>NaN</td>\n",
       "      <td>NaN</td>\n",
       "      <td>WSW</td>\n",
       "      <td>46.0</td>\n",
       "      <td>W</td>\n",
       "      <td>...</td>\n",
       "      <td>38.0</td>\n",
       "      <td>30.0</td>\n",
       "      <td>1007.6</td>\n",
       "      <td>1008.7</td>\n",
       "      <td>NaN</td>\n",
       "      <td>2.0</td>\n",
       "      <td>21.0</td>\n",
       "      <td>23.2</td>\n",
       "      <td>No</td>\n",
       "      <td>No</td>\n",
       "    </tr>\n",
       "    <tr>\n",
       "      <th>3</th>\n",
       "      <td>2008-12-04</td>\n",
       "      <td>Albury</td>\n",
       "      <td>9.2</td>\n",
       "      <td>28.0</td>\n",
       "      <td>0.0</td>\n",
       "      <td>NaN</td>\n",
       "      <td>NaN</td>\n",
       "      <td>NE</td>\n",
       "      <td>24.0</td>\n",
       "      <td>SE</td>\n",
       "      <td>...</td>\n",
       "      <td>45.0</td>\n",
       "      <td>16.0</td>\n",
       "      <td>1017.6</td>\n",
       "      <td>1012.8</td>\n",
       "      <td>NaN</td>\n",
       "      <td>NaN</td>\n",
       "      <td>18.1</td>\n",
       "      <td>26.5</td>\n",
       "      <td>No</td>\n",
       "      <td>No</td>\n",
       "    </tr>\n",
       "    <tr>\n",
       "      <th>4</th>\n",
       "      <td>2008-12-05</td>\n",
       "      <td>Albury</td>\n",
       "      <td>17.5</td>\n",
       "      <td>32.3</td>\n",
       "      <td>1.0</td>\n",
       "      <td>NaN</td>\n",
       "      <td>NaN</td>\n",
       "      <td>W</td>\n",
       "      <td>41.0</td>\n",
       "      <td>ENE</td>\n",
       "      <td>...</td>\n",
       "      <td>82.0</td>\n",
       "      <td>33.0</td>\n",
       "      <td>1010.8</td>\n",
       "      <td>1006.0</td>\n",
       "      <td>7.0</td>\n",
       "      <td>8.0</td>\n",
       "      <td>17.8</td>\n",
       "      <td>29.7</td>\n",
       "      <td>No</td>\n",
       "      <td>No</td>\n",
       "    </tr>\n",
       "  </tbody>\n",
       "</table>\n",
       "<p>5 rows × 23 columns</p>\n",
       "</div>"
      ],
      "text/plain": [
       "         Date Location  MinTemp  MaxTemp  Rainfall  Evaporation  Sunshine  \\\n",
       "0  2008-12-01   Albury     13.4     22.9       0.6          NaN       NaN   \n",
       "1  2008-12-02   Albury      7.4     25.1       0.0          NaN       NaN   \n",
       "2  2008-12-03   Albury     12.9     25.7       0.0          NaN       NaN   \n",
       "3  2008-12-04   Albury      9.2     28.0       0.0          NaN       NaN   \n",
       "4  2008-12-05   Albury     17.5     32.3       1.0          NaN       NaN   \n",
       "\n",
       "  WindGustDir  WindGustSpeed WindDir9am  ... Humidity9am  Humidity3pm  \\\n",
       "0           W           44.0          W  ...        71.0         22.0   \n",
       "1         WNW           44.0        NNW  ...        44.0         25.0   \n",
       "2         WSW           46.0          W  ...        38.0         30.0   \n",
       "3          NE           24.0         SE  ...        45.0         16.0   \n",
       "4           W           41.0        ENE  ...        82.0         33.0   \n",
       "\n",
       "   Pressure9am  Pressure3pm  Cloud9am  Cloud3pm  Temp9am  Temp3pm  RainToday  \\\n",
       "0       1007.7       1007.1       8.0       NaN     16.9     21.8         No   \n",
       "1       1010.6       1007.8       NaN       NaN     17.2     24.3         No   \n",
       "2       1007.6       1008.7       NaN       2.0     21.0     23.2         No   \n",
       "3       1017.6       1012.8       NaN       NaN     18.1     26.5         No   \n",
       "4       1010.8       1006.0       7.0       8.0     17.8     29.7         No   \n",
       "\n",
       "   RainTomorrow  \n",
       "0            No  \n",
       "1            No  \n",
       "2            No  \n",
       "3            No  \n",
       "4            No  \n",
       "\n",
       "[5 rows x 23 columns]"
      ]
     },
     "execution_count": 2,
     "metadata": {},
     "output_type": "execute_result"
    }
   ],
   "source": [
    "data = \"../data/weatherAUS.csv\"\n",
    "df = pd.read_csv(data, header=0)\n",
    "df.head()"
   ]
  },
  {
   "cell_type": "code",
   "execution_count": 3,
   "metadata": {
    "execution": {
     "iopub.execute_input": "2024-09-29T09:37:24.828228Z",
     "iopub.status.busy": "2024-09-29T09:37:24.827822Z",
     "iopub.status.idle": "2024-09-29T09:37:24.903850Z",
     "shell.execute_reply": "2024-09-29T09:37:24.902732Z",
     "shell.execute_reply.started": "2024-09-29T09:37:24.828161Z"
    }
   },
   "outputs": [
    {
     "name": "stdout",
     "output_type": "stream",
     "text": [
      "<class 'pandas.core.frame.DataFrame'>\n",
      "RangeIndex: 145460 entries, 0 to 145459\n",
      "Data columns (total 23 columns):\n",
      " #   Column         Non-Null Count   Dtype  \n",
      "---  ------         --------------   -----  \n",
      " 0   Date           145460 non-null  object \n",
      " 1   Location       145460 non-null  object \n",
      " 2   MinTemp        143975 non-null  float64\n",
      " 3   MaxTemp        144199 non-null  float64\n",
      " 4   Rainfall       142199 non-null  float64\n",
      " 5   Evaporation    82670 non-null   float64\n",
      " 6   Sunshine       75625 non-null   float64\n",
      " 7   WindGustDir    135134 non-null  object \n",
      " 8   WindGustSpeed  135197 non-null  float64\n",
      " 9   WindDir9am     134894 non-null  object \n",
      " 10  WindDir3pm     141232 non-null  object \n",
      " 11  WindSpeed9am   143693 non-null  float64\n",
      " 12  WindSpeed3pm   142398 non-null  float64\n",
      " 13  Humidity9am    142806 non-null  float64\n",
      " 14  Humidity3pm    140953 non-null  float64\n",
      " 15  Pressure9am    130395 non-null  float64\n",
      " 16  Pressure3pm    130432 non-null  float64\n",
      " 17  Cloud9am       89572 non-null   float64\n",
      " 18  Cloud3pm       86102 non-null   float64\n",
      " 19  Temp9am        143693 non-null  float64\n",
      " 20  Temp3pm        141851 non-null  float64\n",
      " 21  RainToday      142199 non-null  object \n",
      " 22  RainTomorrow   142193 non-null  object \n",
      "dtypes: float64(16), object(7)\n",
      "memory usage: 25.5+ MB\n"
     ]
    }
   ],
   "source": [
    "# summary of dataset\n",
    "df.info()"
   ]
  },
  {
   "cell_type": "markdown",
   "metadata": {},
   "source": [
    "### Les variables"
   ]
  },
  {
   "cell_type": "code",
   "execution_count": 4,
   "metadata": {},
   "outputs": [],
   "source": [
    "# on parse la variable date en format datetime et on crée 3 variables\n",
    "df['Date'] = pd.to_datetime(df['Date'])\n",
    "df['Year'] = df['Date'].dt.year\n",
    "df['Month'] = df['Date'].dt.month\n",
    "df['Day'] = df['Date'].dt.day\n",
    "# on supprime Date\n",
    "df.drop('Date', axis=1, inplace = True)"
   ]
  },
  {
   "cell_type": "code",
   "execution_count": 5,
   "metadata": {},
   "outputs": [],
   "source": [
    "df['RainToday'].replace({'No': 0, 'Yes': 1}, inplace=True)\n",
    "df['RainTomorrow'].replace({'No': 0, 'Yes': 1}, inplace=True)"
   ]
  },
  {
   "cell_type": "code",
   "execution_count": 6,
   "metadata": {},
   "outputs": [
    {
     "name": "stdout",
     "output_type": "stream",
     "text": [
      "RainToday\n",
      "0.0    110319\n",
      "1.0     31880\n",
      "Name: count, dtype: int64\n",
      "\n",
      "RainTomorrow\n",
      "0.0    110316\n",
      "1.0     31877\n",
      "Name: count, dtype: int64\n"
     ]
    }
   ],
   "source": [
    "print(df['RainToday'].value_counts())\n",
    "print()\n",
    "print(df['RainTomorrow'].value_counts())"
   ]
  },
  {
   "cell_type": "code",
   "execution_count": 7,
   "metadata": {},
   "outputs": [
    {
     "data": {
      "text/plain": [
       "<Axes: xlabel='RainTomorrow', ylabel='count'>"
      ]
     },
     "execution_count": 7,
     "metadata": {},
     "output_type": "execute_result"
    },
    {
     "data": {
      "image/png": "[encoded data removed]",
      "text/plain": [
       "<Figure size 640x480 with 1 Axes>"
      ]
     },
     "metadata": {},
     "output_type": "display_data"
    }
   ],
   "source": [
    "from sklearn.utils import resample\n",
    "\n",
    "yes = df[df['RainTomorrow'] == 1]\n",
    "no = df[df['RainTomorrow'] == 0]\n",
    "yes_oversampled = resample(yes, replace=True, n_samples=len(no), random_state=123)\n",
    "oversampled = pd.concat([no, yes_oversampled])\n",
    "\n",
    "sns.countplot(oversampled, x='RainTomorrow')"
   ]
  },
  {
   "cell_type": "code",
   "execution_count": 8,
   "metadata": {},
   "outputs": [],
   "source": [
    "df = pd.DataFrame(oversampled)"
   ]
  },
  {
   "cell_type": "code",
   "execution_count": 9,
   "metadata": {},
   "outputs": [
    {
     "name": "stdout",
     "output_type": "stream",
     "text": [
      "<class 'pandas.core.frame.DataFrame'>\n",
      "Index: 220632 entries, 0 to 27220\n",
      "Data columns (total 25 columns):\n",
      " #   Column         Non-Null Count   Dtype  \n",
      "---  ------         --------------   -----  \n",
      " 0   Location       220632 non-null  object \n",
      " 1   MinTemp        219550 non-null  float64\n",
      " 2   MaxTemp        220161 non-null  float64\n",
      " 3   Rainfall       217508 non-null  float64\n",
      " 4   Evaporation    125221 non-null  float64\n",
      " 5   Sunshine       115801 non-null  float64\n",
      " 6   WindGustDir    205141 non-null  object \n",
      " 7   WindGustSpeed  205278 non-null  float64\n",
      " 8   WindDir9am     205904 non-null  object \n",
      " 9   WindDir3pm     214192 non-null  object \n",
      " 10  WindSpeed9am   218426 non-null  float64\n",
      " 11  WindSpeed3pm   216279 non-null  float64\n",
      " 12  Humidity9am    217461 non-null  float64\n",
      " 13  Humidity3pm    214601 non-null  float64\n",
      " 14  Pressure9am    198904 non-null  float64\n",
      " 15  Pressure3pm    198886 non-null  float64\n",
      " 16  Cloud9am       139293 non-null  float64\n",
      " 17  Cloud3pm       135018 non-null  float64\n",
      " 18  Temp9am        218979 non-null  float64\n",
      " 19  Temp3pm        216074 non-null  float64\n",
      " 20  RainToday      217508 non-null  float64\n",
      " 21  RainTomorrow   220632 non-null  float64\n",
      " 22  Year           220632 non-null  int32  \n",
      " 23  Month          220632 non-null  int32  \n",
      " 24  Day            220632 non-null  int32  \n",
      "dtypes: float64(18), int32(3), object(4)\n",
      "memory usage: 41.2+ MB\n"
     ]
    }
   ],
   "source": [
    "df.info()\n"
   ]
  },
  {
   "cell_type": "code",
   "execution_count": 10,
   "metadata": {},
   "outputs": [
    {
     "name": "stdout",
     "output_type": "stream",
     "text": [
      "Il y a 4 variables catégorielles :\n",
      " ['Location', 'WindGustDir', 'WindDir9am', 'WindDir3pm']\n"
     ]
    }
   ],
   "source": [
    "# variables catégorielles\n",
    "categorical = [var for var in df.columns if df[var].dtype=='O']\n",
    "print('Il y a {} variables catégorielles :\\n'.format(len(categorical)), categorical)"
   ]
  },
  {
   "cell_type": "code",
   "execution_count": 11,
   "metadata": {},
   "outputs": [
    {
     "data": {
      "text/plain": [
       "Location           0\n",
       "WindGustDir    15491\n",
       "WindDir9am     14728\n",
       "WindDir3pm      6440\n",
       "dtype: int64"
      ]
     },
     "execution_count": 11,
     "metadata": {},
     "output_type": "execute_result"
    }
   ],
   "source": [
    "# valeurs manquantes\n",
    "df[categorical].isnull().sum()"
   ]
  },
  {
   "cell_type": "code",
   "execution_count": 12,
   "metadata": {},
   "outputs": [],
   "source": [
    "# remplacement des valeurs manquantes par le Mode\n",
    "df['WindGustDir'] = df['WindGustDir'].fillna(df['WindGustDir'].mode()[0])\n",
    "df['WindDir9am'] = df['WindDir9am'].fillna(df['WindDir9am'].mode()[0])\n",
    "df['WindDir3pm'] = df['WindDir3pm'].fillna(df['WindDir3pm'].mode()[0])"
   ]
  },
  {
   "cell_type": "code",
   "execution_count": 13,
   "metadata": {
    "execution": {
     "iopub.execute_input": "2024-09-29T09:37:37.840730Z",
     "iopub.status.busy": "2024-09-29T09:37:37.840357Z",
     "iopub.status.idle": "2024-09-29T09:37:37.913360Z",
     "shell.execute_reply": "2024-09-29T09:37:37.912201Z",
     "shell.execute_reply.started": "2024-09-29T09:37:37.840676Z"
    }
   },
   "outputs": [
    {
     "data": {
      "text/plain": [
       "Location       0\n",
       "WindGustDir    0\n",
       "WindDir9am     0\n",
       "WindDir3pm     0\n",
       "dtype: int64"
      ]
     },
     "execution_count": 13,
     "metadata": {},
     "output_type": "execute_result"
    }
   ],
   "source": [
    "# valeurs manquantes\n",
    "df[categorical].isnull().sum()"
   ]
  },
  {
   "cell_type": "code",
   "execution_count": 14,
   "metadata": {
    "execution": {
     "iopub.execute_input": "2024-09-29T09:40:53.577909Z",
     "iopub.status.busy": "2024-09-29T09:40:53.577576Z",
     "iopub.status.idle": "2024-09-29T09:40:53.584808Z",
     "shell.execute_reply": "2024-09-29T09:40:53.583283Z",
     "shell.execute_reply.started": "2024-09-29T09:40:53.577862Z"
    }
   },
   "outputs": [
    {
     "name": "stdout",
     "output_type": "stream",
     "text": [
      "Il y a 21 variables numériques:\n",
      " ['MinTemp', 'MaxTemp', 'Rainfall', 'Evaporation', 'Sunshine', 'WindGustSpeed', 'WindSpeed9am', 'WindSpeed3pm', 'Humidity9am', 'Humidity3pm', 'Pressure9am', 'Pressure3pm', 'Cloud9am', 'Cloud3pm', 'Temp9am', 'Temp3pm', 'RainToday', 'RainTomorrow', 'Year', 'Month', 'Day']\n"
     ]
    }
   ],
   "source": [
    "# variables numériques\n",
    "numerical = [var for var in df.columns if df[var].dtype!='O']\n",
    "print('Il y a {} variables numériques:\\n'.format(len(numerical)),numerical)"
   ]
  },
  {
   "cell_type": "code",
   "execution_count": 15,
   "metadata": {
    "execution": {
     "iopub.execute_input": "2024-09-29T09:41:01.340101Z",
     "iopub.status.busy": "2024-09-29T09:41:01.339709Z",
     "iopub.status.idle": "2024-09-29T09:41:01.375588Z",
     "shell.execute_reply": "2024-09-29T09:41:01.374313Z",
     "shell.execute_reply.started": "2024-09-29T09:41:01.340019Z"
    }
   },
   "outputs": [
    {
     "data": {
      "text/plain": [
       "Sunshine         0.475140\n",
       "Evaporation      0.432444\n",
       "Cloud3pm         0.388040\n",
       "Cloud9am         0.368664\n",
       "Pressure3pm      0.098562\n",
       "Pressure9am      0.098481\n",
       "WindGustSpeed    0.069591\n",
       "Humidity3pm      0.027335\n",
       "Temp3pm          0.020659\n",
       "WindSpeed3pm     0.019730\n",
       "Humidity9am      0.014372\n",
       "Rainfall         0.014159\n",
       "RainToday        0.014159\n",
       "WindSpeed9am     0.009999\n",
       "Temp9am          0.007492\n",
       "MinTemp          0.004904\n",
       "MaxTemp          0.002135\n",
       "RainTomorrow     0.000000\n",
       "Year             0.000000\n",
       "Month            0.000000\n",
       "Day              0.000000\n",
       "dtype: float64"
      ]
     },
     "execution_count": 15,
     "metadata": {},
     "output_type": "execute_result"
    }
   ],
   "source": [
    "# valeurs manquantes pour les variables numériques\n",
    "(df[numerical].isna().sum().sort_values(ascending = False)) / len(df)"
   ]
  },
  {
   "cell_type": "code",
   "execution_count": 16,
   "metadata": {},
   "outputs": [],
   "source": [
    "df2 = pd.DataFrame(columns=df.columns)\n",
    "\n",
    "for ville in df['Location'].unique():\n",
    "    df_ville = pd.DataFrame(df[df['Location'] == ville])\n",
    "   \n",
    "    ## pour les valeurs nulles restantes, on remplace par la médiane\n",
    "    df_ville[numerical] = df_ville[numerical].fillna(df_ville[numerical].median())\n",
    "\n",
    "    ## si la médiane est nulle, on remplace par 0\n",
    "    df_ville[numerical] = df_ville[numerical].fillna(0)\n",
    "    \n",
    "    df_ville = df_ville.reset_index(drop=True)\n",
    "    df2 = pd.concat([df2, df_ville])\n",
    "\n",
    "df2.head()\n",
    "df = pd.DataFrame(df2)"
   ]
  },
  {
   "cell_type": "code",
   "execution_count": 17,
   "metadata": {},
   "outputs": [],
   "source": [
    "# Remplacement des outliers\n",
    "outliers = ['MinTemp', 'MaxTemp', 'Rainfall', 'Evaporation', 'WindGustSpeed',\n",
    "'WindSpeed9am', 'WindSpeed3pm', 'Humidity9am', 'Pressure9am', 'Pressure3pm', 'Temp9am', 'Temp3pm']\n",
    "\n",
    "for feature in outliers:\n",
    "    q1 = df[feature].quantile(0.25)\n",
    "    q3 = df[feature].quantile(0.75)\n",
    "    IQR = q3-q1\n",
    "    lower_limit = q1 - (IQR*1.5)\n",
    "    upper_limit = q3 + (IQR*1.5)\n",
    "    df.loc[df[feature]<lower_limit,feature] = lower_limit\n",
    "    df.loc[df[feature]>upper_limit,feature] = upper_limit"
   ]
  },
  {
   "cell_type": "code",
   "execution_count": 18,
   "metadata": {},
   "outputs": [],
   "source": [
    "# Encodage des variables catégorielles\n",
    "def encode_data(feature_name):\n",
    "    # Utilisation de pd.factorize pour encoder les données\n",
    "    codes, uniques = pd.factorize(df[feature_name])\n",
    "    mapping_dict = dict(zip(uniques, range(len(uniques))))\n",
    "    return codes\n",
    "\n",
    "for col in categorical:\n",
    "    df[col] = encode_data(col)"
   ]
  },
  {
   "cell_type": "code",
   "execution_count": 19,
   "metadata": {},
   "outputs": [
    {
     "name": "stdout",
     "output_type": "stream",
     "text": [
      "<class 'pandas.core.frame.DataFrame'>\n",
      "Index: 220632 entries, 0 to 1819\n",
      "Data columns (total 25 columns):\n",
      " #   Column         Non-Null Count   Dtype  \n",
      "---  ------         --------------   -----  \n",
      " 0   Location       220632 non-null  int64  \n",
      " 1   MinTemp        220632 non-null  float64\n",
      " 2   MaxTemp        220632 non-null  float64\n",
      " 3   Rainfall       220632 non-null  float64\n",
      " 4   Evaporation    220632 non-null  float64\n",
      " 5   Sunshine       220632 non-null  float64\n",
      " 6   WindGustDir    220632 non-null  int64  \n",
      " 7   WindGustSpeed  220632 non-null  float64\n",
      " 8   WindDir9am     220632 non-null  int64  \n",
      " 9   WindDir3pm     220632 non-null  int64  \n",
      " 10  WindSpeed9am   220632 non-null  float64\n",
      " 11  WindSpeed3pm   220632 non-null  float64\n",
      " 12  Humidity9am    220632 non-null  float64\n",
      " 13  Humidity3pm    220632 non-null  float64\n",
      " 14  Pressure9am    220632 non-null  float64\n",
      " 15  Pressure3pm    220632 non-null  float64\n",
      " 16  Cloud9am       220632 non-null  float64\n",
      " 17  Cloud3pm       220632 non-null  float64\n",
      " 18  Temp9am        220632 non-null  float64\n",
      " 19  Temp3pm        220632 non-null  float64\n",
      " 20  RainToday      220632 non-null  float64\n",
      " 21  RainTomorrow   220632 non-null  float64\n",
      " 22  Year           220632 non-null  object \n",
      " 23  Month          220632 non-null  object \n",
      " 24  Day            220632 non-null  object \n",
      "dtypes: float64(18), int64(4), object(3)\n",
      "memory usage: 43.8+ MB\n"
     ]
    }
   ],
   "source": [
    "df.info()"
   ]
  },
  {
   "cell_type": "code",
   "execution_count": 20,
   "metadata": {},
   "outputs": [],
   "source": [
    "df.to_csv('../data/w_clean.csv')"
   ]
  }
 ],
 "metadata": {
  "kaggle": {
   "accelerator": "none",
   "dataSources": [
    {
     "datasetId": 6012,
     "sourceId": 1733506,
     "sourceType": "datasetVersion"
    }
   ],
   "dockerImageVersionId": 29849,
   "isGpuEnabled": false,
   "isInternetEnabled": false,
   "language": "python",
   "sourceType": "notebook"
  },
  "kernelspec": {
   "display_name": "Python 3 (ipykernel)",
   "language": "python",
   "name": "python3"
  },
  "language_info": {
   "codemirror_mode": {
    "name": "ipython",
    "version": 3
   },
   "file_extension": ".py",
   "mimetype": "text/x-python",
   "name": "python",
   "nbconvert_exporter": "python",
   "pygments_lexer": "ipython3",
   "version": "3.9.10"
  }
 },
 "nbformat": 4,
 "nbformat_minor": 4
}
